{
 "cells": [
  {
   "cell_type": "code",
   "execution_count": null,
   "metadata": {},
   "outputs": [],
   "source": [
    "import numpy as np\n",
    "import cv2\n",
    "\n",
    "img = cv2.imread('/home/vivek/Desktop/img.jpg', cv2.IMREAD_COLOR)\n",
    "cv2.line(img,(0,0),(150,150),(255,255,255),15)\n",
    "cv2.rectangle(img,(15,15),(200,150),(0,255,0),5)\n",
    "cv2.circle(img,(100,64),55,(0,0,255),-1)\n",
    "\n",
    "pts = np.array([[10,5],[20,30],[70,20],[50,10]],np.int32)\n",
    "\n",
    "cv2.polylines(img,[pts],True,(0,255,255),5)\n",
    "\n",
    "font = cv2.FONT_HERSHEY_SIMPLEX\n",
    "cv2.putText(img,'opencv-vivek',(0,130),font,0,(200,255,255),5,cv2.LINE_AA)\n",
    "\n",
    "cv2.imshow('imgage',img)\n",
    "cv2.waitKey(0)\n",
    "cv2.destroyAllWindows()"
   ]
  },
  {
   "cell_type": "code",
   "execution_count": null,
   "metadata": {},
   "outputs": [],
   "source": []
  },
  {
   "cell_type": "code",
   "execution_count": null,
   "metadata": {},
   "outputs": [],
   "source": []
  },
  {
   "cell_type": "code",
   "execution_count": null,
   "metadata": {},
   "outputs": [],
   "source": []
  }
 ],
 "metadata": {
  "kernelspec": {
   "display_name": "Python 3",
   "language": "python",
   "name": "python3"
  },
  "language_info": {
   "codemirror_mode": {
    "name": "ipython",
    "version": 3
   },
   "file_extension": ".py",
   "mimetype": "text/x-python",
   "name": "python",
   "nbconvert_exporter": "python",
   "pygments_lexer": "ipython3",
   "version": "3.8.5"
  }
 },
 "nbformat": 4,
 "nbformat_minor": 4
}
